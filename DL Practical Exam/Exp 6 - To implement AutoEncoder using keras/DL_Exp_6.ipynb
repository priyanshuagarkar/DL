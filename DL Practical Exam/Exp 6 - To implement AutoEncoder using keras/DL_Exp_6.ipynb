{
  "nbformat": 4,
  "nbformat_minor": 0,
  "metadata": {
    "colab": {
      "provenance": []
    },
    "kernelspec": {
      "name": "python3",
      "display_name": "Python 3"
    },
    "language_info": {
      "name": "python"
    }
  },
  "cells": [
    {
      "cell_type": "markdown",
      "source": [
        "# **Name:** Anushree Bharat Salunke\n",
        "# **Div:** C\n",
        "# **Roll No:** 19\n",
        "# **Moodle ID:** 20102179\n",
        "# **DL LAB**\n",
        "# **Experiment Number 6**\n",
        "# **Aim:** To implement AutoEncoder using keras\n"
      ],
      "metadata": {
        "id": "wLwCeP5Y_gBJ"
      }
    },
    {
      "cell_type": "code",
      "source": [
        "from google.colab import drive\n",
        "drive.mount('/content/drive')"
      ],
      "metadata": {
        "id": "BQqPk1k2AC-t"
      },
      "execution_count": null,
      "outputs": []
    },
    {
      "cell_type": "code",
      "source": [
        "import matplotlib.pyplot as plt\n",
        "import numpy as np\n",
        "import pandas as pd\n",
        "import tensorflow as tf\n",
        "\n",
        "from sklearn.metrics import accuracy_score, precision_score, recall_score\n",
        "from sklearn.model_selection import train_test_split\n",
        "from keras import layers, losses\n",
        "from keras.datasets import mnist\n",
        "from keras.models import Model\n"
      ],
      "metadata": {
        "id": "6y6ab2nI_BCE"
      },
      "execution_count": null,
      "outputs": []
    },
    {
      "cell_type": "code",
      "source": [
        "# Loading the MNIST dataset and extracting training and testing data\n",
        "(x_train, _), (x_test, _) = mnist.load_data()\n",
        "\n",
        "# Normalizing pixel values to the range [0, 1]\n",
        "x_train = x_train.astype('float32') / 255.\n",
        "x_test = x_test.astype('float32') / 255.\n",
        "\n",
        "# Displaying the shapes of the training and testing datasets\n",
        "print(\"Shape of the training data:\", x_train.shape)\n",
        "print(\"Shape of the testing data:\", x_test.shape)\n"
      ],
      "metadata": {
        "id": "6eh1eNWC_HJP"
      },
      "execution_count": null,
      "outputs": []
    },
    {
      "cell_type": "code",
      "source": [
        "# Definition of the Autoencoder model as a subclass of the TensorFlow Model class\n",
        "\n",
        "class SimpleAutoencoder(Model):\n",
        "\tdef __init__(self,latent_dimensions , data_shape):\n",
        "\t\tsuper(SimpleAutoencoder, self).__init__()\n",
        "\t\tself.latent_dimensions = latent_dimensions\n",
        "\t\tself.data_shape = data_shape\n",
        "\n",
        "\t\t# Encoder architecture using a Sequential model\n",
        "\t\tself.encoder = tf.keras.Sequential([\n",
        "\t\t\tlayers.Flatten(),\n",
        "\t\t\tlayers.Dense(latent_dimensions, activation='relu'),\n",
        "\t\t])\n",
        "\n",
        "\t\t# Decoder architecture using another Sequential model\n",
        "\t\tself.decoder = tf.keras.Sequential([\n",
        "\t\t\tlayers.Dense(tf.math.reduce_prod(data_shape), activation='sigmoid'),\n",
        "\t\t\tlayers.Reshape(data_shape)\n",
        "\t\t])\n",
        "\n",
        "\t# Forward pass method defining the encoding and decoding steps\n",
        "\tdef call(self, input_data):\n",
        "\t\tencoded_data = self.encoder(input_data)\n",
        "\t\tdecoded_data = self.decoder(encoded_data)\n",
        "\t\treturn decoded_data\n",
        "\n",
        "# Extracting shape information from the testing dataset\n",
        "input_data_shape = x_test.shape[1:]\n",
        "\n",
        "# Specifying the dimensionality of the latent space\n",
        "latent_dimensions = 64\n",
        "\n",
        "# Creating an instance of the SimpleAutoencoder model\n",
        "simple_autoencoder = SimpleAutoencoder(latent_dimensions, input_data_shape)\n"
      ],
      "metadata": {
        "id": "azDwAvv8_KRF"
      },
      "execution_count": null,
      "outputs": []
    },
    {
      "cell_type": "code",
      "source": [
        "simple_autoencoder.compile(optimizer='adam', loss=losses.MeanSquaredError())\n",
        "\n",
        "simple_autoencoder.fit(x_train, x_train,\n",
        "\t\t\t\tepochs=1,\n",
        "\t\t\t\tshuffle=True,\n",
        "\t\t\t\tvalidation_data=(x_test, x_test))\n"
      ],
      "metadata": {
        "id": "krI0ul31_NFC"
      },
      "execution_count": null,
      "outputs": []
    },
    {
      "cell_type": "code",
      "source": [
        "encoded_imgs = simple_autoencoder.encoder(x_test).numpy()\n",
        "decoded_imgs = simple_autoencoder.decoder(encoded_imgs).numpy()\n",
        "\n",
        "n = 6\n",
        "plt.figure(figsize=(8, 4))\n",
        "for i in range(n):\n",
        "# display original\n",
        "  ax = plt.subplot(2, n, i + 1)\n",
        "  plt.imshow(x_test[i])\n",
        "  plt.title(\"original\")\n",
        "  plt.gray()\n",
        "\n",
        "  # display reconstruction\n",
        "  ax = plt.subplot(2, n, i + 1 + n)\n",
        "  plt.imshow(decoded_imgs[i])\n",
        "  plt.title(\"reconstructed\")\n",
        "  plt.gray()\n",
        "\n",
        "plt.show()\n"
      ],
      "metadata": {
        "id": "bd0l71Dk_PDJ"
      },
      "execution_count": null,
      "outputs": []
    }
  ]
}